{
 "cells": [
  {
   "cell_type": "code",
   "execution_count": 2,
   "id": "298f2a06-852b-4268-976f-146fbd5433c6",
   "metadata": {},
   "outputs": [
    {
     "ename": "ERROR",
     "evalue": "Error in read_csv(\"https://raw.githubusercontent.com/nicole-wun/dsci-project/refs/heads/main/players.csv\"): could not find function \"read_csv\"\n",
     "output_type": "error",
     "traceback": [
      "Error in read_csv(\"https://raw.githubusercontent.com/nicole-wun/dsci-project/refs/heads/main/players.csv\"): could not find function \"read_csv\"\nTraceback:\n"
     ]
    }
   ],
   "source": [
    "players <- read_csv(\"https://raw.githubusercontent.com/nicole-wun/dsci-project/refs/heads/main/players.csv\")\n",
    "players"
   ]
  },
  {
   "cell_type": "code",
   "execution_count": null,
   "id": "1e90e346-06c1-40b8-b9a0-a63915d5f7d3",
   "metadata": {},
   "outputs": [],
   "source": []
  }
 ],
 "metadata": {
  "kernelspec": {
   "display_name": "R",
   "language": "R",
   "name": "ir"
  },
  "language_info": {
   "codemirror_mode": "r",
   "file_extension": ".r",
   "mimetype": "text/x-r-source",
   "name": "R",
   "pygments_lexer": "r",
   "version": "4.3.3"
  }
 },
 "nbformat": 4,
 "nbformat_minor": 5
}
